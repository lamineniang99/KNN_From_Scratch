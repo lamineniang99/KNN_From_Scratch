{
 "cells": [
  {
   "cell_type": "code",
   "execution_count": 4,
   "metadata": {},
   "outputs": [
    {
     "name": "stderr",
     "output_type": "stream",
     "text": [
      "c:\\Users\\Lamine Niang\\anaconda3\\lib\\site-packages\\scipy\\__init__.py:155: UserWarning: A NumPy version >=1.18.5 and <1.25.0 is required for this version of SciPy (detected version 1.26.2\n",
      "  warnings.warn(f\"A NumPy version >={np_minversion} and <{np_maxversion}\"\n"
     ]
    }
   ],
   "source": [
    "from sklearn.datasets import make_classification"
   ]
  },
  {
   "cell_type": "code",
   "execution_count": 22,
   "metadata": {},
   "outputs": [],
   "source": [
    "def eucludien(x, y) : \n",
    "        return np.sqrt(np.sum((x-y)**2))"
   ]
  },
  {
   "cell_type": "code",
   "execution_count": 25,
   "metadata": {},
   "outputs": [],
   "source": [
    "def manhattan_distance(x, y):\n",
    "        return np.sum(np.abs(x - y))"
   ]
  },
  {
   "cell_type": "code",
   "execution_count": 23,
   "metadata": {},
   "outputs": [],
   "source": [
    "import numpy as np \n",
    "class KNNClassifier :\n",
    "    def __init__(self, k=3, distance = None) :\n",
    "        self.k = k\n",
    "        self.distance = distance\n",
    "    \n",
    "    def fit(self, X, y) :\n",
    "        self.X = X\n",
    "        self.y = y \n",
    "    \n",
    "    \n",
    "    \n",
    "    def _predict(self, new_obs) :\n",
    "        distances = [self.distance(x, new_obs) for x in self.X]\n",
    "        k_indices = np.argsort(distances)[:self.k]\n",
    "        k_nearest_labels  = [self.y[i] for i in k_indices]\n",
    "        most_common = max(set(k_nearest_labels), key=k_nearest_labels.count)\n",
    "        return most_common\n",
    "    \n",
    "    \n",
    "    def predict(self, X_test) :\n",
    "        predictions = [self._predict(x) for x in X_test]\n",
    "        return predictions"
   ]
  },
  {
   "cell_type": "code",
   "execution_count": 5,
   "metadata": {},
   "outputs": [],
   "source": [
    "data, target = make_classification(n_samples=10000, n_features=4, n_classes=2)"
   ]
  },
  {
   "cell_type": "code",
   "execution_count": 6,
   "metadata": {},
   "outputs": [
    {
     "name": "stdout",
     "output_type": "stream",
     "text": [
      "(10000, 4)\n"
     ]
    }
   ],
   "source": [
    "print(data.shape)"
   ]
  },
  {
   "cell_type": "code",
   "execution_count": 7,
   "metadata": {},
   "outputs": [
    {
     "name": "stdout",
     "output_type": "stream",
     "text": [
      "[0 0 1 ... 0 1 0]\n"
     ]
    }
   ],
   "source": [
    "print(target)"
   ]
  },
  {
   "cell_type": "code",
   "execution_count": 8,
   "metadata": {},
   "outputs": [],
   "source": [
    "X_train = data[:8000]\n",
    "y_train = target[:8000]\n",
    "X_test = data[8000:]\n",
    "y_test = target[8000:]"
   ]
  },
  {
   "cell_type": "code",
   "execution_count": 24,
   "metadata": {},
   "outputs": [
    {
     "name": "stdout",
     "output_type": "stream",
     "text": [
      "Précision  du KNN: 0.9655\n"
     ]
    }
   ],
   "source": [
    "# Instanciation de la classe\n",
    "knn = KNNClassifier(k=7, distance=eucludien)\n",
    "\n",
    "# entraitement de l'algorithme \n",
    "knn.fit(X_train, y_train)\n",
    "\n",
    "# Faire les prdictions\n",
    "predictions = knn.predict(X_test)\n",
    "\n",
    "accuracy = np.mean(predictions == y_test)\n",
    "print(\"Précision  du KNN:\", accuracy)"
   ]
  },
  {
   "cell_type": "code",
   "execution_count": 26,
   "metadata": {},
   "outputs": [
    {
     "name": "stdout",
     "output_type": "stream",
     "text": [
      "Précision  du KNN: 0.9655\n"
     ]
    }
   ],
   "source": [
    "\n",
    "# Instanciation de la classe\n",
    "knn = KNNClassifier(k=7, distance=manhattan_distance)\n",
    "\n",
    "# entraitement de l'algorithme \n",
    "knn.fit(X_train, y_train)\n",
    "\n",
    "# Faire les prdictions\n",
    "predictions = knn.predict(X_test)\n",
    "\n",
    "accuracy = np.mean(predictions == y_test)\n",
    "print(\"Précision  du KNN:\", accuracy)"
   ]
  }
 ],
 "metadata": {
  "kernelspec": {
   "display_name": "base",
   "language": "python",
   "name": "python3"
  },
  "language_info": {
   "codemirror_mode": {
    "name": "ipython",
    "version": 3
   },
   "file_extension": ".py",
   "mimetype": "text/x-python",
   "name": "python",
   "nbconvert_exporter": "python",
   "pygments_lexer": "ipython3",
   "version": "3.9.13"
  }
 },
 "nbformat": 4,
 "nbformat_minor": 2
}
